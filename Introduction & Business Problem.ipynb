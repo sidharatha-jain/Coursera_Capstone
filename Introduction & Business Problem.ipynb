{
    "nbformat_minor": 1, 
    "cells": [
        {
            "source": "# Introduction\n\nIn this report we are going to look at the neighborhood data of Toronto and understand the various demographics. We will have a look at the dstribution of population across the various neighborhoods and the various kind of Businesses that run in the vicinity of each neighborhood. We will use data available online on Wikipedia and data provided by Foursquare to present our analysis.\n\n\n# Business Problem\n\nWhenever we plan to start a new Business or to invest in an existing Business, the very first question that comes in anyone's mind is in which location should the Business be started. You can make an offline analysis by visiting the different areas to understand the popularity and preference in terms of locations and Business category. Though making an offline analysis has it's own limitations. It won't be extensive and will becomme exhausting after a while. Also it will be time consuming and include overhead in terms of effort and expenses in performing all the explorations. With the new digital age, most of the data is available online. This data can be structured into meaningful analysis which can assist in faster decision making. Also the the time and effort involved in making an online analysis is much less as compared to offline analysis and the results are often fruitful. In this report we will be analyzing neighborhoods in Toronto to recommend which neighborhood can be a good option for a new Business. We will also further provide recommendations about which Business will be beneficial in such locations. This report is targeted to anyone who is planning to start a Business in Toronto.  ", 
            "cell_type": "markdown", 
            "metadata": {
                "collapsed": true
            }
        }
    ], 
    "metadata": {
        "kernelspec": {
            "display_name": "Python 3.5", 
            "name": "python3", 
            "language": "python"
        }, 
        "language_info": {
            "mimetype": "text/x-python", 
            "nbconvert_exporter": "python", 
            "version": "3.5.5", 
            "name": "python", 
            "file_extension": ".py", 
            "pygments_lexer": "ipython3", 
            "codemirror_mode": {
                "version": 3, 
                "name": "ipython"
            }
        }
    }, 
    "nbformat": 4
}